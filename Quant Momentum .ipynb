{
 "cells": [
  {
   "cell_type": "markdown",
   "metadata": {},
   "source": [
    "# InFinance Quant. Estratégia de Momentum \n"
   ]
  },
  {
   "cell_type": "code",
   "execution_count": 1,
   "metadata": {},
   "outputs": [],
   "source": [
    "%matplotlib inline\n",
    "\n",
    "import numpy as np\n",
    "import pandas as pd\n",
    "import matplotlib.pyplot as plt\n",
    "import time\n",
    "import datetime\n",
    "import yahoofinancials as yf\n",
    "from pprint import pprint\n",
    "import mplfinance as mpf\n",
    "\n",
    "from scipy import stats\n",
    "\n",
    "from IPython import display"
   ]
  },
  {
   "cell_type": "code",
   "execution_count": 2,
   "metadata": {},
   "outputs": [],
   "source": [
    "ticker = 'VALE3.SA'\n",
    "\n",
    "start_date = '2020-03-08'\n",
    "end_date =  '2021-03-08'\n",
    "\n",
    "data = yf.YahooFinancials(ticker).get_historical_price_data(start_date, end_date, 'daily')\n"
   ]
  },
  {
   "cell_type": "code",
   "execution_count": 3,
   "metadata": {},
   "outputs": [
    {
     "data": {
      "text/html": [
       "<div>\n",
       "<style scoped>\n",
       "    .dataframe tbody tr th:only-of-type {\n",
       "        vertical-align: middle;\n",
       "    }\n",
       "\n",
       "    .dataframe tbody tr th {\n",
       "        vertical-align: top;\n",
       "    }\n",
       "\n",
       "    .dataframe thead th {\n",
       "        text-align: right;\n",
       "    }\n",
       "</style>\n",
       "<table border=\"1\" class=\"dataframe\">\n",
       "  <thead>\n",
       "    <tr style=\"text-align: right;\">\n",
       "      <th></th>\n",
       "      <th>date</th>\n",
       "      <th>high</th>\n",
       "      <th>low</th>\n",
       "      <th>open</th>\n",
       "      <th>close</th>\n",
       "      <th>volume</th>\n",
       "      <th>adjclose</th>\n",
       "    </tr>\n",
       "    <tr>\n",
       "      <th>formatted_date</th>\n",
       "      <th></th>\n",
       "      <th></th>\n",
       "      <th></th>\n",
       "      <th></th>\n",
       "      <th></th>\n",
       "      <th></th>\n",
       "      <th></th>\n",
       "    </tr>\n",
       "  </thead>\n",
       "  <tbody>\n",
       "    <tr>\n",
       "      <th>2020-03-09</th>\n",
       "      <td>1583758800</td>\n",
       "      <td>41.540001</td>\n",
       "      <td>37.810001</td>\n",
       "      <td>40.450001</td>\n",
       "      <td>37.830002</td>\n",
       "      <td>59037000.0</td>\n",
       "      <td>34.746456</td>\n",
       "    </tr>\n",
       "    <tr>\n",
       "      <th>2020-03-10</th>\n",
       "      <td>1583845200</td>\n",
       "      <td>45.340000</td>\n",
       "      <td>40.799999</td>\n",
       "      <td>41.900002</td>\n",
       "      <td>44.810001</td>\n",
       "      <td>63269800.0</td>\n",
       "      <td>41.157513</td>\n",
       "    </tr>\n",
       "    <tr>\n",
       "      <th>2020-03-11</th>\n",
       "      <td>1583931600</td>\n",
       "      <td>44.290001</td>\n",
       "      <td>39.000000</td>\n",
       "      <td>43.009998</td>\n",
       "      <td>40.740002</td>\n",
       "      <td>50025000.0</td>\n",
       "      <td>37.419262</td>\n",
       "    </tr>\n",
       "    <tr>\n",
       "      <th>2020-03-12</th>\n",
       "      <td>1584018000</td>\n",
       "      <td>36.000000</td>\n",
       "      <td>32.450001</td>\n",
       "      <td>36.000000</td>\n",
       "      <td>35.349998</td>\n",
       "      <td>62222000.0</td>\n",
       "      <td>32.468601</td>\n",
       "    </tr>\n",
       "    <tr>\n",
       "      <th>2020-03-13</th>\n",
       "      <td>1584104400</td>\n",
       "      <td>44.029999</td>\n",
       "      <td>37.000000</td>\n",
       "      <td>42.000000</td>\n",
       "      <td>42.900002</td>\n",
       "      <td>67635900.0</td>\n",
       "      <td>39.403198</td>\n",
       "    </tr>\n",
       "  </tbody>\n",
       "</table>\n",
       "</div>"
      ],
      "text/plain": [
       "                      date       high        low       open      close  \\\n",
       "formatted_date                                                           \n",
       "2020-03-09      1583758800  41.540001  37.810001  40.450001  37.830002   \n",
       "2020-03-10      1583845200  45.340000  40.799999  41.900002  44.810001   \n",
       "2020-03-11      1583931600  44.290001  39.000000  43.009998  40.740002   \n",
       "2020-03-12      1584018000  36.000000  32.450001  36.000000  35.349998   \n",
       "2020-03-13      1584104400  44.029999  37.000000  42.000000  42.900002   \n",
       "\n",
       "                    volume   adjclose  \n",
       "formatted_date                         \n",
       "2020-03-09      59037000.0  34.746456  \n",
       "2020-03-10      63269800.0  41.157513  \n",
       "2020-03-11      50025000.0  37.419262  \n",
       "2020-03-12      62222000.0  32.468601  \n",
       "2020-03-13      67635900.0  39.403198  "
      ]
     },
     "execution_count": 3,
     "metadata": {},
     "output_type": "execute_result"
    }
   ],
   "source": [
    "# Ler os dados do JSON\n",
    "vale_raw = pd.DataFrame(data[ticker]['prices']).dropna()\n",
    "# Converter a data para o tipo correto datetime\n",
    "vale_raw['formatted_date'] = pd.to_datetime(vale_raw['formatted_date'])\n",
    "# Indica a data como o índice de cada linha\n",
    "vale_raw = vale_raw.set_index('formatted_date')\n",
    "# Visualiza o resultado\n",
    "vale_raw.head()"
   ]
  },
  {
   "cell_type": "code",
   "execution_count": 4,
   "metadata": {},
   "outputs": [
    {
     "data": {
      "text/plain": [
       "formatted_date\n",
       "2020-03-09     37.830002\n",
       "2020-03-10     44.810001\n",
       "2020-03-11     40.740002\n",
       "2020-03-12     35.349998\n",
       "2020-03-13     42.900002\n",
       "                 ...    \n",
       "2021-03-01     98.570000\n",
       "2021-03-02    101.599998\n",
       "2021-03-03    100.349998\n",
       "2021-03-04     98.860001\n",
       "2021-03-05    100.209999\n",
       "Name: close, Length: 244, dtype: float64"
      ]
     },
     "execution_count": 4,
     "metadata": {},
     "output_type": "execute_result"
    }
   ],
   "source": [
    "vale3 = vale_raw.iloc[:,1:-1]\n",
    "vale3.head()\n",
    "vale3.close"
   ]
  },
  {
   "cell_type": "code",
   "execution_count": 5,
   "metadata": {},
   "outputs": [
    {
     "data": {
      "image/png": "[encoded data removed]",
      "text/plain": [
       "<Figure size 720x360 with 1 Axes>"
      ]
     },
     "metadata": {},
     "output_type": "display_data"
    }
   ],
   "source": [
    "fig, ax = plt.subplots(1, 1, figsize=(10,5));\n",
    "\n",
    "cash = 0 # indica quanto dinheiro tem no bolso\n",
    "position = 0 # indica a posição atual. 0 é zerado\n",
    "result = [] # lista para montar o gráfico\n",
    "\n",
    "fim = 0\n",
    "momentum = 0\n",
    "i = 0 \n",
    "\n",
    "while i in range(len(vale3)):\n",
    "    if i >= 10:\n",
    "        momentum = vale3.open[i] - vale3.close[i-10]\n",
    "        \n",
    "    if momentum > 0:\n",
    "        cash -= 100 * vale3.open[i] # Fluxo de caixa negativo\n",
    "        position += 1 # Indica que está comprado\n",
    "\n",
    "    if momentum < 0:\n",
    "        cash = cash + 100 * vale3.open[i] * position\n",
    "        position = 0\n",
    "    \n",
    "    result.append(cash + 100 * vale3.close[i] * position) # Mark To Market!\n",
    "   \n",
    "    # Fazendo o plot a cada iteração:\n",
    "    ax.plot(result, color='blue')    \n",
    "    display.clear_output(wait=True)\n",
    "    display.display(fig)\n",
    "    i += 1\n",
    "    \n",
    "ax.plot(result, color='blue');\n",
    "display.clear_output(wait=True)"
   ]
  },
  {
   "cell_type": "code",
   "execution_count": null,
   "metadata": {},
   "outputs": [],
   "source": []
  },
  {
   "cell_type": "code",
   "execution_count": null,
   "metadata": {},
   "outputs": [],
   "source": []
  }
 ],
 "metadata": {
  "kernelspec": {
   "display_name": "Python 3",
   "language": "python",
   "name": "python3"
  },
  "language_info": {
   "codemirror_mode": {
    "name": "ipython",
    "version": 3
   },
   "file_extension": ".py",
   "mimetype": "text/x-python",
   "name": "python",
   "nbconvert_exporter": "python",
   "pygments_lexer": "ipython3",
   "version": "3.6.4"
  }
 },
 "nbformat": 4,
 "nbformat_minor": 5
}
